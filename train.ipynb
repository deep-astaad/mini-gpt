{
 "cells": [
  {
   "cell_type": "code",
   "execution_count": 2,
   "id": "866198fe-82aa-44bc-8118-fe7da3dbeeb2",
   "metadata": {},
   "outputs": [
    {
     "name": "stdout",
     "output_type": "stream",
     "text": [
      "Nothing to upgrade\n",
      "\u001b[1m\u001b[33mwarning\u001b[39m\u001b[0m\u001b[1m:\u001b[0m \u001b[1mSkipping installation of entry points (`project.scripts`) because this project is not packaged; to install entry points, set `tool.uv.package = true` or define a `build-system`\u001b[0m\n",
      "\u001b[2K\u001b[2mResolved \u001b[1m140 packages\u001b[0m \u001b[2min 5.45s\u001b[0m\u001b[0m                                       \u001b[0m\n",
      "\u001b[2mAudited \u001b[1m110 packages\u001b[0m \u001b[2min 0.03ms\u001b[0m\u001b[0m\n"
     ]
    }
   ],
   "source": [
    "!uv tool upgrade --all\n",
    "!uv sync --extra cpu"
   ]
  },
  {
   "cell_type": "code",
   "execution_count": 4,
   "id": "e739d399-6bc7-47e9-8aa0-b88c353faaaf",
   "metadata": {},
   "outputs": [],
   "source": [
    "# read it in to inspect it\n",
    "with open('src/mini_gpt/input.txt', 'r', encoding='utf-8') as f:\n",
    "    text = f.read()"
   ]
  },
  {
   "cell_type": "code",
   "execution_count": 5,
   "id": "00dfa047-ddfe-46d3-937d-e6eb3739e6b3",
   "metadata": {},
   "outputs": [
    {
     "name": "stdout",
     "output_type": "stream",
     "text": [
      "length of dataset in characters:  1115394\n"
     ]
    }
   ],
   "source": [
    "print(\"length of dataset in characters: \", len(text))"
   ]
  },
  {
   "cell_type": "code",
   "execution_count": 26,
   "id": "193972f4-e949-405d-aeab-11bd9d94d4dd",
   "metadata": {},
   "outputs": [
    {
     "name": "stdout",
     "output_type": "stream",
     "text": [
      "First Citizen:\n",
      "Before we proceed any further, hear me speak.\n",
      "\n",
      "All:\n",
      "Speak, speak.\n",
      "\n",
      "First Citizen:\n",
      "You are all resolved rather to die than to famish?\n",
      "\n",
      "All:\n",
      "Resolved. resolved.\n",
      "\n",
      "First Citizen:\n",
      "First, you know Caius Marcius is chief enemy to the people.\n",
      "\n",
      "All:\n",
      "We know't, we know't.\n",
      "\n",
      "First Citizen:\n",
      "Let us kill him, and we'll have corn at our own price.\n",
      "Is't a verdict?\n",
      "\n",
      "All:\n",
      "No more talking on't; let it be done: away, away!\n",
      "\n",
      "Second Citizen:\n",
      "One word, good citizens.\n",
      "\n",
      "First Citizen:\n",
      "We are accounted poor citizens, the patricians good.\n",
      "What authority surfeits on would relieve us: if they\n",
      "would yield us but the superfluity, while it were\n",
      "wholesome, we might guess they relieved us humanely;\n",
      "but they think we are too dear: the leanness that\n",
      "afflicts us, the object of our misery, is as an\n",
      "inventory to particularise their abundance; our\n",
      "sufferance is a gain to them Let us revenge this with\n",
      "our pikes, ere we become rakes: for the gods know I\n",
      "speak this in hunger for bread, not in thirst for revenge.\n",
      "\n",
      "\n"
     ]
    }
   ],
   "source": [
    "# let's look at the first 1000 characters\n",
    "print(text[:1000])"
   ]
  },
  {
   "cell_type": "code",
   "execution_count": 8,
   "id": "df511e1a-4060-45c7-9efe-4a0d464754fc",
   "metadata": {},
   "outputs": [
    {
     "name": "stdout",
     "output_type": "stream",
     "text": [
      "\n",
      " !$&',-.3:;?ABCDEFGHIJKLMNOPQRSTUVWXYZabcdefghijklmnopqrstuvwxyz\n",
      "65\n"
     ]
    }
   ],
   "source": [
    "# here are all the unique characters that occur in this text\n",
    "chars = sorted(list(set(text)))\n",
    "vocab_size = len(chars)\n",
    "print(''.join(chars))\n",
    "print(vocab_size)"
   ]
  },
  {
   "cell_type": "code",
   "execution_count": 16,
   "id": "2d59adfc-5427-4ba3-9c1e-28f6eeba4f21",
   "metadata": {},
   "outputs": [
    {
     "name": "stdout",
     "output_type": "stream",
     "text": [
      "[46, 47, 47, 1, 58, 46, 43, 56, 43]\n",
      "hii there\n"
     ]
    }
   ],
   "source": [
    "# create a mapping from characters to integers\n",
    "stoi = { ch:i for i,ch in enumerate(chars) }\n",
    "itos = { i:ch for i,ch in enumerate(chars) }\n",
    "encode = lambda s: [stoi[c] for c in s] # encoder: take a string, output a list of integers\n",
    "decode = lambda l: ''.join([itos[i] for i in l]) # decoder: take a list of integers, output a string\n",
    "\n",
    "print(encode(\"hii there\"))\n",
    "print(decode(encode(\"hii there\")))"
   ]
  },
  {
   "cell_type": "code",
   "execution_count": 13,
   "id": "e28b9b95-5f8e-41a7-af64-e0613890e8f2",
   "metadata": {},
   "outputs": [
    {
     "name": "stdout",
     "output_type": "stream",
     "text": [
      "\u001b[2K\u001b[2mResolved \u001b[1m141 packages\u001b[0m \u001b[2min 11.82s\u001b[0m\u001b[0m                                      \u001b[0m\n",
      "\u001b[2K\u001b[2mAudited \u001b[1m10 packages\u001b[0m \u001b[2min 0.02ms\u001b[0m\u001b[0m                                        \u001b[0m\n"
     ]
    }
   ],
   "source": [
    "!uv add torch"
   ]
  },
  {
   "cell_type": "code",
   "execution_count": 17,
   "id": "2a7b7c51-ec6b-43db-b4f2-05e3757469fc",
   "metadata": {},
   "outputs": [
    {
     "name": "stdout",
     "output_type": "stream",
     "text": [
      "torch.Size([1115394]) torch.int64\n",
      "tensor([18, 47, 56, 57, 58,  1, 15, 47, 58, 47, 64, 43, 52, 10,  0, 14, 43, 44,\n",
      "        53, 56, 43,  1, 61, 43,  1, 54, 56, 53, 41, 43, 43, 42,  1, 39, 52, 63,\n",
      "         1, 44, 59, 56, 58, 46, 43, 56,  6,  1, 46, 43, 39, 56,  1, 51, 43,  1,\n",
      "        57, 54, 43, 39, 49,  8,  0,  0, 13, 50, 50, 10,  0, 31, 54, 43, 39, 49,\n",
      "         6,  1, 57, 54, 43, 39, 49,  8,  0,  0, 18, 47, 56, 57, 58,  1, 15, 47,\n",
      "        58, 47, 64, 43, 52, 10,  0, 37, 53, 59,  1, 39, 56, 43,  1, 39, 50, 50,\n",
      "         1, 56, 43, 57, 53, 50, 60, 43, 42,  1, 56, 39, 58, 46, 43, 56,  1, 58,\n",
      "        53,  1, 42, 47, 43,  1, 58, 46, 39, 52,  1, 58, 53,  1, 44, 39, 51, 47,\n",
      "        57, 46, 12,  0,  0, 13, 50, 50, 10,  0, 30, 43, 57, 53, 50, 60, 43, 42,\n",
      "         8,  1, 56, 43, 57, 53, 50, 60, 43, 42,  8,  0,  0, 18, 47, 56, 57, 58,\n",
      "         1, 15, 47, 58, 47, 64, 43, 52, 10,  0, 18, 47, 56, 57, 58,  6,  1, 63,\n",
      "        53, 59,  1, 49, 52, 53, 61,  1, 15, 39, 47, 59, 57,  1, 25, 39, 56, 41,\n",
      "        47, 59, 57,  1, 47, 57,  1, 41, 46, 47, 43, 44,  1, 43, 52, 43, 51, 63,\n",
      "         1, 58, 53,  1, 58, 46, 43,  1, 54, 43, 53, 54, 50, 43,  8,  0,  0, 13,\n",
      "        50, 50, 10,  0, 35, 43,  1, 49, 52, 53, 61,  5, 58,  6,  1, 61, 43,  1,\n",
      "        49, 52, 53, 61,  5, 58,  8,  0,  0, 18, 47, 56, 57, 58,  1, 15, 47, 58,\n",
      "        47, 64, 43, 52, 10,  0, 24, 43, 58,  1, 59, 57,  1, 49, 47, 50, 50,  1,\n",
      "        46, 47, 51,  6,  1, 39, 52, 42,  1, 61, 43,  5, 50, 50,  1, 46, 39, 60,\n",
      "        43,  1, 41, 53, 56, 52,  1, 39, 58,  1, 53, 59, 56,  1, 53, 61, 52,  1,\n",
      "        54, 56, 47, 41, 43,  8,  0, 21, 57,  5, 58,  1, 39,  1, 60, 43, 56, 42,\n",
      "        47, 41, 58, 12,  0,  0, 13, 50, 50, 10,  0, 26, 53,  1, 51, 53, 56, 43,\n",
      "         1, 58, 39, 50, 49, 47, 52, 45,  1, 53, 52,  5, 58, 11,  1, 50, 43, 58,\n",
      "         1, 47, 58,  1, 40, 43,  1, 42, 53, 52, 43, 10,  1, 39, 61, 39, 63,  6,\n",
      "         1, 39, 61, 39, 63,  2,  0,  0, 31, 43, 41, 53, 52, 42,  1, 15, 47, 58,\n",
      "        47, 64, 43, 52, 10,  0, 27, 52, 43,  1, 61, 53, 56, 42,  6,  1, 45, 53,\n",
      "        53, 42,  1, 41, 47, 58, 47, 64, 43, 52, 57,  8,  0,  0, 18, 47, 56, 57,\n",
      "        58,  1, 15, 47, 58, 47, 64, 43, 52, 10,  0, 35, 43,  1, 39, 56, 43,  1,\n",
      "        39, 41, 41, 53, 59, 52, 58, 43, 42,  1, 54, 53, 53, 56,  1, 41, 47, 58,\n",
      "        47, 64, 43, 52, 57,  6,  1, 58, 46, 43,  1, 54, 39, 58, 56, 47, 41, 47,\n",
      "        39, 52, 57,  1, 45, 53, 53, 42,  8,  0, 35, 46, 39, 58,  1, 39, 59, 58,\n",
      "        46, 53, 56, 47, 58, 63,  1, 57, 59, 56, 44, 43, 47, 58, 57,  1, 53, 52,\n",
      "         1, 61, 53, 59, 50, 42,  1, 56, 43, 50, 47, 43, 60, 43,  1, 59, 57, 10,\n",
      "         1, 47, 44,  1, 58, 46, 43, 63,  0, 61, 53, 59, 50, 42,  1, 63, 47, 43,\n",
      "        50, 42,  1, 59, 57,  1, 40, 59, 58,  1, 58, 46, 43,  1, 57, 59, 54, 43,\n",
      "        56, 44, 50, 59, 47, 58, 63,  6,  1, 61, 46, 47, 50, 43,  1, 47, 58,  1,\n",
      "        61, 43, 56, 43,  0, 61, 46, 53, 50, 43, 57, 53, 51, 43,  6,  1, 61, 43,\n",
      "         1, 51, 47, 45, 46, 58,  1, 45, 59, 43, 57, 57,  1, 58, 46, 43, 63,  1,\n",
      "        56, 43, 50, 47, 43, 60, 43, 42,  1, 59, 57,  1, 46, 59, 51, 39, 52, 43,\n",
      "        50, 63, 11,  0, 40, 59, 58,  1, 58, 46, 43, 63,  1, 58, 46, 47, 52, 49,\n",
      "         1, 61, 43,  1, 39, 56, 43,  1, 58, 53, 53,  1, 42, 43, 39, 56, 10,  1,\n",
      "        58, 46, 43,  1, 50, 43, 39, 52, 52, 43, 57, 57,  1, 58, 46, 39, 58,  0,\n",
      "        39, 44, 44, 50, 47, 41, 58, 57,  1, 59, 57,  6,  1, 58, 46, 43,  1, 53,\n",
      "        40, 48, 43, 41, 58,  1, 53, 44,  1, 53, 59, 56,  1, 51, 47, 57, 43, 56,\n",
      "        63,  6,  1, 47, 57,  1, 39, 57,  1, 39, 52,  0, 47, 52, 60, 43, 52, 58,\n",
      "        53, 56, 63,  1, 58, 53,  1, 54, 39, 56, 58, 47, 41, 59, 50, 39, 56, 47,\n",
      "        57, 43,  1, 58, 46, 43, 47, 56,  1, 39, 40, 59, 52, 42, 39, 52, 41, 43,\n",
      "        11,  1, 53, 59, 56,  0, 57, 59, 44, 44, 43, 56, 39, 52, 41, 43,  1, 47,\n",
      "        57,  1, 39,  1, 45, 39, 47, 52,  1, 58, 53,  1, 58, 46, 43, 51,  1, 24,\n",
      "        43, 58,  1, 59, 57,  1, 56, 43, 60, 43, 52, 45, 43,  1, 58, 46, 47, 57,\n",
      "         1, 61, 47, 58, 46,  0, 53, 59, 56,  1, 54, 47, 49, 43, 57,  6,  1, 43,\n",
      "        56, 43,  1, 61, 43,  1, 40, 43, 41, 53, 51, 43,  1, 56, 39, 49, 43, 57,\n",
      "        10,  1, 44, 53, 56,  1, 58, 46, 43,  1, 45, 53, 42, 57,  1, 49, 52, 53,\n",
      "        61,  1, 21,  0, 57, 54, 43, 39, 49,  1, 58, 46, 47, 57,  1, 47, 52,  1,\n",
      "        46, 59, 52, 45, 43, 56,  1, 44, 53, 56,  1, 40, 56, 43, 39, 42,  6,  1,\n",
      "        52, 53, 58,  1, 47, 52,  1, 58, 46, 47, 56, 57, 58,  1, 44, 53, 56,  1,\n",
      "        56, 43, 60, 43, 52, 45, 43,  8,  0,  0])\n"
     ]
    }
   ],
   "source": [
    "# let's now encode the entire text dataset and store it into a torch.Tensor\n",
    "import torch # we use PyTorch: https://pytorch.org\n",
    "data = torch.tensor(encode(text), dtype=torch.long)\n",
    "print(data.shape, data.dtype)\n",
    "print(data[:1000]) # the 1000 characters we looked at earier will to the GPT look like this"
   ]
  },
  {
   "cell_type": "code",
   "execution_count": 10,
   "id": "4ff96c4e-8a7c-4149-819d-cf6ca25d7d91",
   "metadata": {},
   "outputs": [
    {
     "name": "stdout",
     "output_type": "stream",
     "text": [
      "\u001b[1m\u001b[33mwarning\u001b[39m\u001b[0m\u001b[1m:\u001b[0m \u001b[1mSkipping installation of entry points (`project.scripts`) because this project is not packaged; to install entry points, set `tool.uv.package = true` or define a `build-system`\u001b[0m\n",
      "\u001b[2mResolved \u001b[1m140 packages\u001b[0m \u001b[2min 0.95ms\u001b[0m\u001b[0m\n",
      "\u001b[2mAudited \u001b[1m110 packages\u001b[0m \u001b[2min 0.03ms\u001b[0m\u001b[0m\n"
     ]
    }
   ],
   "source": [
    "!uv sync --extra cpu"
   ]
  },
  {
   "cell_type": "code",
   "execution_count": 11,
   "id": "c881e4c9-f0e6-4714-b7f6-c8f81dff1415",
   "metadata": {},
   "outputs": [
    {
     "name": "stdout",
     "output_type": "stream",
     "text": [
      "False\n"
     ]
    }
   ],
   "source": [
    "import torch; print(torch.cuda.is_available())\n"
   ]
  },
  {
   "cell_type": "code",
   "execution_count": 14,
   "id": "986c6983-5c22-43f8-beb3-d97200adbcb1",
   "metadata": {},
   "outputs": [
    {
     "name": "stdout",
     "output_type": "stream",
     "text": [
      "\u001b[1manyio\u001b[0m==4.9.0\n",
      "\u001b[1margon2-cffi\u001b[0m==25.1.0\n",
      "\u001b[1margon2-cffi-bindings\u001b[0m==21.2.0\n",
      "\u001b[1marrow\u001b[0m==1.3.0\n",
      "\u001b[1masttokens\u001b[0m==3.0.0\n",
      "\u001b[1masync-lru\u001b[0m==2.0.5\n",
      "\u001b[1mattrs\u001b[0m==25.3.0\n",
      "\u001b[1mbabel\u001b[0m==2.17.0\n",
      "\u001b[1mbeautifulsoup4\u001b[0m==4.13.4\n",
      "\u001b[1mbleach\u001b[0m==6.2.0\n",
      "\u001b[1mbuild\u001b[0m==1.2.2.post1\n",
      "\u001b[1mcertifi\u001b[0m==2025.7.14\n",
      "\u001b[1mcffi\u001b[0m==1.17.1\n",
      "\u001b[1mcfgv\u001b[0m==3.4.0\n",
      "\u001b[1mcharset-normalizer\u001b[0m==3.4.2\n",
      "\u001b[1mclick\u001b[0m==8.2.1\n",
      "\u001b[1mcomm\u001b[0m==0.2.2\n",
      "\u001b[1mdebugpy\u001b[0m==1.8.15\n",
      "\u001b[1mdecorator\u001b[0m==5.2.1\n",
      "\u001b[1mdefusedxml\u001b[0m==0.7.1\n",
      "\u001b[1mdistlib\u001b[0m==0.4.0\n",
      "\u001b[1mexecuting\u001b[0m==2.2.0\n",
      "\u001b[1mfastjsonschema\u001b[0m==2.21.1\n",
      "\u001b[1mfilelock\u001b[0m==3.18.0\n",
      "\u001b[1mfqdn\u001b[0m==1.5.1\n",
      "\u001b[1mh11\u001b[0m==0.16.0\n",
      "\u001b[1mhttpcore\u001b[0m==1.0.9\n",
      "\u001b[1mhttpx\u001b[0m==0.28.1\n",
      "\u001b[1midentify\u001b[0m==2.6.12\n",
      "\u001b[1midna\u001b[0m==3.10\n",
      "\u001b[1mipykernel\u001b[0m==6.29.5\n",
      "\u001b[1mipython\u001b[0m==9.4.0\n",
      "\u001b[1mipython-pygments-lexers\u001b[0m==1.1.1\n",
      "\u001b[1misoduration\u001b[0m==20.11.0\n",
      "\u001b[1mjedi\u001b[0m==0.19.2\n",
      "\u001b[1mjinja2\u001b[0m==3.1.6\n",
      "\u001b[1mjson5\u001b[0m==0.12.0\n",
      "\u001b[1mjsonpointer\u001b[0m==3.0.0\n",
      "\u001b[1mjsonschema\u001b[0m==4.25.0\n",
      "\u001b[1mjsonschema-specifications\u001b[0m==2025.4.1\n",
      "\u001b[1mjupyter-client\u001b[0m==8.6.3\n",
      "\u001b[1mjupyter-core\u001b[0m==5.8.1\n",
      "\u001b[1mjupyter-events\u001b[0m==0.12.0\n",
      "\u001b[1mjupyter-lsp\u001b[0m==2.2.6\n",
      "\u001b[1mjupyter-server\u001b[0m==2.16.0\n",
      "\u001b[1mjupyter-server-terminals\u001b[0m==0.5.3\n",
      "\u001b[1mjupyterlab\u001b[0m==4.4.4\n",
      "\u001b[1mjupyterlab-pygments\u001b[0m==0.3.0\n",
      "\u001b[1mjupyterlab-server\u001b[0m==2.27.3\n",
      "\u001b[1mlark\u001b[0m==1.2.2\n",
      "\u001b[1mmarkupsafe\u001b[0m==3.0.2\n",
      "\u001b[1mmatplotlib-inline\u001b[0m==0.1.7\n",
      "\u001b[1mmistune\u001b[0m==3.1.3\n",
      "\u001b[1mnbclient\u001b[0m==0.10.2\n",
      "\u001b[1mnbconvert\u001b[0m==7.16.6\n",
      "\u001b[1mnbformat\u001b[0m==5.10.4\n",
      "\u001b[1mnest-asyncio\u001b[0m==1.6.0\n",
      "\u001b[1mnodeenv\u001b[0m==1.9.1\n",
      "\u001b[1mnotebook-shim\u001b[0m==0.2.4\n",
      "\u001b[1moverrides\u001b[0m==7.7.0\n",
      "\u001b[1mpackaging\u001b[0m==25.0\n",
      "\u001b[1mpandocfilters\u001b[0m==1.5.1\n",
      "\u001b[1mparso\u001b[0m==0.8.4\n",
      "\u001b[1mpexpect\u001b[0m==4.9.0\n",
      "\u001b[1mpip\u001b[0m==25.1.1\n",
      "\u001b[1mpip-tools\u001b[0m==7.4.1\n",
      "\u001b[1mplatformdirs\u001b[0m==4.3.8\n",
      "\u001b[1mpre-commit\u001b[0m==4.2.0\n",
      "\u001b[1mprometheus-client\u001b[0m==0.22.1\n",
      "\u001b[1mprompt-toolkit\u001b[0m==3.0.51\n",
      "\u001b[1mpsutil\u001b[0m==7.0.0\n",
      "\u001b[1mptyprocess\u001b[0m==0.7.0\n",
      "\u001b[1mpure-eval\u001b[0m==0.2.3\n",
      "\u001b[1mpycparser\u001b[0m==2.22\n",
      "\u001b[1mpygments\u001b[0m==2.19.2\n",
      "\u001b[1mpyproject-hooks\u001b[0m==1.2.0\n",
      "\u001b[1mpython-dateutil\u001b[0m==2.9.0.post0\n",
      "\u001b[1mpython-json-logger\u001b[0m==3.3.0\n",
      "\u001b[1mpyyaml\u001b[0m==6.0.2\n",
      "\u001b[1mpyzmq\u001b[0m==27.0.0\n",
      "\u001b[1mreferencing\u001b[0m==0.36.2\n",
      "\u001b[1mrequests\u001b[0m==2.32.4\n",
      "\u001b[1mrfc3339-validator\u001b[0m==0.1.4\n",
      "\u001b[1mrfc3986-validator\u001b[0m==0.1.1\n",
      "\u001b[1mrfc3987-syntax\u001b[0m==1.1.0\n",
      "\u001b[1mrpds-py\u001b[0m==0.26.0\n",
      "\u001b[1mruff\u001b[0m==0.12.4\n",
      "\u001b[1msend2trash\u001b[0m==1.8.3\n",
      "\u001b[1msetuptools\u001b[0m==80.9.0\n",
      "\u001b[1msix\u001b[0m==1.17.0\n",
      "\u001b[1msniffio\u001b[0m==1.3.1\n",
      "\u001b[1msoupsieve\u001b[0m==2.7\n",
      "\u001b[1mstack-data\u001b[0m==0.6.3\n",
      "\u001b[1mterminado\u001b[0m==0.18.1\n",
      "\u001b[1mtinycss2\u001b[0m==1.4.0\n",
      "\u001b[1mtornado\u001b[0m==6.5.1\n",
      "\u001b[1mtraitlets\u001b[0m==5.14.3\n",
      "\u001b[1mtypes-python-dateutil\u001b[0m==2.9.0.20250708\n",
      "\u001b[1mtyping-extensions\u001b[0m==4.14.1\n",
      "\u001b[1muri-template\u001b[0m==1.3.0\n",
      "\u001b[1murllib3\u001b[0m==2.5.0\n",
      "\u001b[1mvirtualenv\u001b[0m==20.31.2\n",
      "\u001b[1mwcwidth\u001b[0m==0.2.13\n",
      "\u001b[1mwebcolors\u001b[0m==24.11.1\n",
      "\u001b[1mwebencodings\u001b[0m==0.5.1\n",
      "\u001b[1mwebsocket-client\u001b[0m==1.8.0\n",
      "\u001b[1mwheel\u001b[0m==0.45.1\n"
     ]
    }
   ],
   "source": [
    "!uv pip freeze"
   ]
  }
 ],
 "metadata": {
  "kernelspec": {
   "display_name": "Python 3 (ipykernel)",
   "language": "python",
   "name": "python3"
  },
  "language_info": {
   "codemirror_mode": {
    "name": "ipython",
    "version": 3
   },
   "file_extension": ".py",
   "mimetype": "text/x-python",
   "name": "python",
   "nbconvert_exporter": "python",
   "pygments_lexer": "ipython3",
   "version": "3.12.11"
  }
 },
 "nbformat": 4,
 "nbformat_minor": 5
}
